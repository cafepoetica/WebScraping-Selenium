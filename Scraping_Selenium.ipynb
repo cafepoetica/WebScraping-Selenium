{
 "cells": [
  {
   "cell_type": "code",
   "execution_count": null,
   "id": "fb0fde53",
   "metadata": {},
   "outputs": [],
   "source": [
    "# Web Scraping con Selenium\n",
    "\n",
    "\n",
    "from selenium import webdriver\n",
    "from selenium.webdriver.common.by import By\n",
    "from selenium.webdriver.support.ui import WebDriverWait\n",
    "from selenium.webdriver.support import expected_conditions as EC\n",
    "from wordcloud import WordCloud\n",
    "from webdriver_manager.firefox import GeckoDriverManager\n",
    "\n",
    "\n",
    "URL='https://www.decorabano.com/muebles-de-bano/'\n",
    "driver = webdriver.Firefox(executable_path=GeckoDriverManager().install())\n",
    "def extract(url):\n",
    "    elem = None\n",
    "    driver = webdriver.Firefox()\n",
    "    driver.get(url)\n",
    "\n",
    "    try:\n",
    "        found = WebDriverWait(driver, 10).until(\n",
    "            EC.visibility_of(\n",
    "                driver.find_element(By.TAG_NAME, \"div\")\n",
    "            )\n",
    "        )\n",
    "        # Haz una copia de los datos relevantes, porque Selenium arrojará si\n",
    "        # intenta acceder a las propiedades después de que el controlador se cierre\n",
    "        elem = {\n",
    "          \"text\": found.text\n",
    "        }\n",
    "    finally:\n",
    "        driver.close()\n",
    "\n",
    "    return elem\n",
    "\n",
    "def transform(elem):\n",
    "    return elem[\"text\"]\n",
    "        \n",
    "def load(text, filepath):\n",
    "    cloud = WordCloud().generate(text)\n",
    "    cloud.to_file(filepath)\n",
    "\n",
    "if __name__ == \"__main__\":\n",
    "    url = URL\n",
    "    filepath = \"angular.png\"\n",
    "\n",
    "    elem = extract(url)\n",
    "    if elem is not None:\n",
    "        text = transform(elem)\n",
    "        load(text, filepath)\n",
    "    else:\n",
    "        print(\"Lo siento, no se pudieron extraer datos\")"
   ]
  }
 ],
 "metadata": {
  "kernelspec": {
   "display_name": "Python 3",
   "language": "python",
   "name": "python3"
  },
  "language_info": {
   "codemirror_mode": {
    "name": "ipython",
    "version": 3
   },
   "file_extension": ".py",
   "mimetype": "text/x-python",
   "name": "python",
   "nbconvert_exporter": "python",
   "pygments_lexer": "ipython3",
   "version": "3.8.8"
  }
 },
 "nbformat": 4,
 "nbformat_minor": 5
}
